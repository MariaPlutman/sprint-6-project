{
 "cells": [
  {
   "cell_type": "code",
   "execution_count": 1,
   "id": "9d56a04c-f42e-4e50-bc16-decf10dfa7e9",
   "metadata": {},
   "outputs": [],
   "source": [
    "# importing pandas\n",
    "import pandas as pd\n",
    "\n",
    "# importing numpy\n",
    "import numpy as np"
   ]
  },
  {
   "cell_type": "code",
   "execution_count": 2,
   "id": "907ad1f5-6a7b-4a93-a915-8f3e5128ffc7",
   "metadata": {},
   "outputs": [],
   "source": [
    "# reading the file and storing it to df\n",
    "df = pd.read_csv('/Users/user/Downloads/vehicles_us.csv')"
   ]
  },
  {
   "cell_type": "code",
   "execution_count": 3,
   "id": "af127868-5479-4c22-8f5b-a604768fc086",
   "metadata": {
    "tags": []
   },
   "outputs": [
    {
     "name": "stdout",
     "output_type": "stream",
     "text": [
      "<class 'pandas.core.frame.DataFrame'>\n",
      "RangeIndex: 51525 entries, 0 to 51524\n",
      "Data columns (total 13 columns):\n",
      " #   Column        Non-Null Count  Dtype  \n",
      "---  ------        --------------  -----  \n",
      " 0   price         51525 non-null  int64  \n",
      " 1   model_year    47906 non-null  float64\n",
      " 2   model         51525 non-null  object \n",
      " 3   condition     51525 non-null  object \n",
      " 4   cylinders     46265 non-null  float64\n",
      " 5   fuel          51525 non-null  object \n",
      " 6   odometer      43633 non-null  float64\n",
      " 7   transmission  51525 non-null  object \n",
      " 8   type          51525 non-null  object \n",
      " 9   paint_color   42258 non-null  object \n",
      " 10  is_4wd        25572 non-null  float64\n",
      " 11  date_posted   51525 non-null  object \n",
      " 12  days_listed   51525 non-null  int64  \n",
      "dtypes: float64(4), int64(2), object(7)\n",
      "memory usage: 5.1+ MB\n"
     ]
    }
   ],
   "source": [
    "# obtaining general information about the data in df\n",
    "df.info()"
   ]
  },
  {
   "cell_type": "code",
   "execution_count": 4,
   "id": "670548c7-5ba4-41ef-80c4-0cdfa804e836",
   "metadata": {
    "tags": []
   },
   "outputs": [
    {
     "name": "stdout",
     "output_type": "stream",
     "text": [
      "Index(['price', 'model_year', 'model', 'condition', 'cylinders', 'fuel',\n",
      "       'odometer', 'transmission', 'type', 'paint_color', 'is_4wd',\n",
      "       'date_posted', 'days_listed'],\n",
      "      dtype='object')\n"
     ]
    }
   ],
   "source": [
    "# the list of column names in the df table\n",
    "print(df.columns)"
   ]
  },
  {
   "cell_type": "code",
   "execution_count": 5,
   "id": "67b06f0c-6c5e-41c0-9e24-775e0e89ec75",
   "metadata": {
    "tags": []
   },
   "outputs": [
    {
     "name": "stdout",
     "output_type": "stream",
     "text": [
      "price               0\n",
      "model_year       3619\n",
      "model               0\n",
      "condition           0\n",
      "cylinders        5260\n",
      "fuel                0\n",
      "odometer         7892\n",
      "transmission        0\n",
      "type                0\n",
      "paint_color      9267\n",
      "is_4wd          25953\n",
      "date_posted         0\n",
      "days_listed         0\n",
      "dtype: int64\n"
     ]
    }
   ],
   "source": [
    "# calculating missing values\n",
    "print(df.isna().sum())"
   ]
  },
  {
   "cell_type": "code",
   "execution_count": 6,
   "id": "e76f10be-ccd0-48a6-a83c-82cf39b98ef3",
   "metadata": {
    "tags": []
   },
   "outputs": [
    {
     "name": "stdout",
     "output_type": "stream",
     "text": [
      "       price  model_year           model  condition cylinders fuel  odometer  \\\n",
      "0       9400      2011.0          bmw x5       good       6.0  gas  145000.0   \n",
      "1      25500         NaN      ford f-150       good       6.0  gas   88705.0   \n",
      "2       5500      2013.0  hyundai sonata   like new       4.0  gas  110000.0   \n",
      "3       1500      2003.0      ford f-150       fair       8.0  gas       NaN   \n",
      "4      14900      2017.0    chrysler 200  excellent       4.0  gas   80903.0   \n",
      "...      ...         ...             ...        ...       ...  ...       ...   \n",
      "51520   9249      2013.0   nissan maxima   like new       6.0  gas   88136.0   \n",
      "51521   2700      2002.0     honda civic    salvage       4.0  gas  181500.0   \n",
      "51522   3950      2009.0  hyundai sonata  excellent       4.0  gas  128000.0   \n",
      "51523   7455      2013.0  toyota corolla       good       4.0  gas  139573.0   \n",
      "51524   6300      2014.0   nissan altima       good       4.0  gas       NaN   \n",
      "\n",
      "      transmission    type paint_color  is_4wd date_posted  days_listed  \n",
      "0        automatic     SUV     unknown     1.0  2018-06-23           19  \n",
      "1        automatic  pickup       white     1.0  2018-10-19           50  \n",
      "2        automatic   sedan         red     NaN  2019-02-07           79  \n",
      "3        automatic  pickup     unknown     NaN  2019-03-22            9  \n",
      "4        automatic   sedan       black     NaN  2019-04-02           28  \n",
      "...            ...     ...         ...     ...         ...          ...  \n",
      "51520    automatic   sedan       black     NaN  2018-10-03           37  \n",
      "51521    automatic   sedan       white     NaN  2018-11-14           22  \n",
      "51522    automatic   sedan        blue     NaN  2018-11-15           32  \n",
      "51523    automatic   sedan       black     NaN  2018-07-02           71  \n",
      "51524    automatic   sedan     unknown     NaN  2018-06-05           10  \n",
      "\n",
      "[51525 rows x 13 columns]\n"
     ]
    }
   ],
   "source": [
    "# Assuming 'df' is your DataFrame\n",
    "columns_to_replace = ['condition','paint_color', 'cylinders']\n",
    "\n",
    "# Replace missing values with 'unknown' using transform()\n",
    "df[columns_to_replace] = df[columns_to_replace].transform(lambda x: x.fillna('unknown'))\n",
    "\n",
    "# Display the updated DataFrame\n",
    "print(df)"
   ]
  },
  {
   "cell_type": "code",
   "execution_count": 7,
   "id": "8b0129ee-099d-49c5-b7e1-a2485d08559e",
   "metadata": {},
   "outputs": [],
   "source": [
    "# Replace 'unknown' values with NaN\n",
    "df['model_year'] = pd.to_numeric(df['model_year'], errors='coerce')\n",
    "df['odometer'] = pd.to_numeric(df['odometer'], errors='coerce')"
   ]
  },
  {
   "cell_type": "code",
   "execution_count": 8,
   "id": "729e7bb8-ed44-4614-9e30-476c44b6d3c8",
   "metadata": {},
   "outputs": [
    {
     "name": "stdout",
     "output_type": "stream",
     "text": [
      "   price  model_year           model  condition cylinders fuel  odometer  \\\n",
      "0   9400        2011          bmw x5       good       6.0  gas    145000   \n",
      "1  25500           0      ford f-150       good       6.0  gas     88705   \n",
      "2   5500        2013  hyundai sonata   like new       4.0  gas    110000   \n",
      "3   1500        2003      ford f-150       fair       8.0  gas         0   \n",
      "4  14900        2017    chrysler 200  excellent       4.0  gas     80903   \n",
      "\n",
      "  transmission    type paint_color  is_4wd date_posted  days_listed  \n",
      "0    automatic     SUV     unknown     1.0  2018-06-23           19  \n",
      "1    automatic  pickup       white     1.0  2018-10-19           50  \n",
      "2    automatic   sedan         red     NaN  2019-02-07           79  \n",
      "3    automatic  pickup     unknown     NaN  2019-03-22            9  \n",
      "4    automatic   sedan       black     NaN  2019-04-02           28  \n"
     ]
    }
   ],
   "source": [
    "# Convert 'model_year' and 'odometer' columns to integers, treating NaN values as 0\n",
    "df['model_year'] = df['model_year'].fillna(0).astype(int)\n",
    "df['odometer'] = df['odometer'].fillna(0).astype(int)\n",
    "\n",
    "# Display the updated DataFrame\n",
    "print(df.head())"
   ]
  },
  {
   "cell_type": "code",
   "execution_count": 9,
   "id": "7c8361ab-4508-4a0d-b517-d59c536b5f77",
   "metadata": {},
   "outputs": [
    {
     "name": "stdout",
     "output_type": "stream",
     "text": [
      "   price  model_year           model  condition cylinders fuel  odometer  \\\n",
      "0   9400        2011          bmw x5       good       6.0  gas    145000   \n",
      "1  25500           0      ford f-150       good       6.0  gas     88705   \n",
      "2   5500        2013  hyundai sonata   like new       4.0  gas    110000   \n",
      "3   1500        2003      ford f-150       fair       8.0  gas         0   \n",
      "4  14900        2017    chrysler 200  excellent       4.0  gas     80903   \n",
      "\n",
      "  transmission    type paint_color is_4wd date_posted  days_listed  \n",
      "0    automatic     SUV     unknown    yes  2018-06-23           19  \n",
      "1    automatic  pickup       white    yes  2018-10-19           50  \n",
      "2    automatic   sedan         red     no  2019-02-07           79  \n",
      "3    automatic  pickup     unknown     no  2019-03-22            9  \n",
      "4    automatic   sedan       black     no  2019-04-02           28  \n"
     ]
    }
   ],
   "source": [
    "# Convert 'is_4wd' to string type (if not already)\n",
    "df['is_4wd'] = df['is_4wd'].astype(str)\n",
    "\n",
    "# Replace '1.0' with 'yes' and 'nan' with 'no'\n",
    "df['is_4wd'] = np.where(df['is_4wd'] == '1.0', 'yes', np.where(df['is_4wd'] == 'nan', 'no', df['is_4wd']))\n",
    "\n",
    "# Display the updated DataFrame\n",
    "print(df.head())"
   ]
  },
  {
   "cell_type": "code",
   "execution_count": 10,
   "id": "c3e6b910-ed4f-4060-903d-49cd7f090bb8",
   "metadata": {},
   "outputs": [
    {
     "name": "stdout",
     "output_type": "stream",
     "text": [
      "price           0\n",
      "model_year      0\n",
      "model           0\n",
      "condition       0\n",
      "cylinders       0\n",
      "fuel            0\n",
      "odometer        0\n",
      "transmission    0\n",
      "type            0\n",
      "paint_color     0\n",
      "is_4wd          0\n",
      "date_posted     0\n",
      "days_listed     0\n",
      "dtype: int64\n"
     ]
    }
   ],
   "source": [
    "# calculating missing values\n",
    "print(df.isna().sum())"
   ]
  },
  {
   "cell_type": "code",
   "execution_count": 11,
   "id": "04b674e3-aee0-4a5f-af99-669fc3b361c3",
   "metadata": {
    "tags": []
   },
   "outputs": [
    {
     "name": "stdout",
     "output_type": "stream",
     "text": [
      "0\n"
     ]
    }
   ],
   "source": [
    "# counting clear duplicates\n",
    "print(df.duplicated().sum()) "
   ]
  },
  {
   "cell_type": "code",
   "execution_count": 12,
   "id": "5e4efca6-f330-484c-9c58-6e0843a97c45",
   "metadata": {
    "tags": []
   },
   "outputs": [
    {
     "name": "stdout",
     "output_type": "stream",
     "text": [
      "['bmw x5' 'ford f-150' 'hyundai sonata' 'chrysler 200' 'chrysler 300'\n",
      " 'toyota camry' 'honda pilot' 'kia sorento' 'chevrolet silverado 1500'\n",
      " 'honda accord' 'ram 1500' 'gmc yukon' 'jeep cherokee'\n",
      " 'chevrolet traverse' 'hyundai elantra' 'chevrolet tahoe' 'toyota rav4'\n",
      " 'chevrolet silverado' 'jeep wrangler' 'chevrolet malibu' 'ford fusion se'\n",
      " 'chevrolet impala' 'chevrolet corvette' 'jeep liberty' 'toyota camry le'\n",
      " 'nissan altima' 'subaru outback' 'toyota highlander' 'dodge charger'\n",
      " 'toyota tacoma' 'chevrolet equinox' 'nissan rogue'\n",
      " 'mercedes-benz benze sprinter 2500' 'honda cr-v' 'jeep grand cherokee'\n",
      " 'toyota 4runner' 'ford focus' 'honda civic' 'kia soul'\n",
      " 'chevrolet colorado' 'ford f150 supercrew cab xlt'\n",
      " 'chevrolet camaro lt coupe 2d' 'chevrolet cruze' 'ford mustang'\n",
      " 'chevrolet silverado 3500hd' 'nissan frontier crew cab sv'\n",
      " 'subaru impreza' 'jeep grand cherokee laredo' 'nissan versa'\n",
      " 'ford f-250 sd' 'chevrolet silverado 1500 crew' 'ford f250 super duty'\n",
      " 'chevrolet camaro' 'ford mustang gt coupe 2d' 'subaru forester'\n",
      " 'ford explorer' 'ford f-350 sd' 'ford edge' 'nissan maxima' 'ford f-250'\n",
      " 'nissan sentra' 'ford f150' 'chevrolet suburban' 'ford expedition'\n",
      " 'dodge grand caravan' 'ford taurus' 'acura tl' 'ford f350 super duty'\n",
      " 'ford ranger' 'gmc sierra' 'hyundai santa fe' 'ford escape'\n",
      " 'gmc sierra 2500hd' 'honda civic lx' 'gmc sierra 1500' 'honda odyssey'\n",
      " 'cadillac escalade' 'volkswagen jetta' 'toyota corolla'\n",
      " 'chrysler town & country' 'volkswagen passat' 'toyota prius'\n",
      " 'buick enclave' 'ford fusion' 'toyota tundra' 'ram 3500' 'ram 2500'\n",
      " 'nissan frontier' 'chevrolet silverado 2500hd' 'jeep wrangler unlimited'\n",
      " 'ford f-250 super duty' 'gmc acadia' 'toyota sienna' 'ford focus se'\n",
      " 'ford f250' 'dodge dakota' 'ford f350' 'chevrolet trailblazer'\n",
      " 'ford econoline' 'nissan murano']\n"
     ]
    }
   ],
   "source": [
    "# viewing unique model names\n",
    "print(df['model'].unique())"
   ]
  },
  {
   "cell_type": "code",
   "execution_count": 14,
   "id": "3a4ab333-2670-49a7-8623-5a3cd48dff1c",
   "metadata": {},
   "outputs": [],
   "source": [
    "# function for replacing implicit duplicates\n",
    "def replace_wrong_models(wrong_models, correct_model):\n",
    "    for wrong_model in wrong_models:\n",
    "        df['model'] = df['model'].str.strip().str.lower().replace(wrong_model.lower(), correct_model.lower())"
   ]
  },
  {
   "cell_type": "code",
   "execution_count": 15,
   "id": "a1fbc53e-976f-4ba6-9fa0-691b5a73c1f1",
   "metadata": {},
   "outputs": [],
   "source": [
    "# removing implicit duplicates\n",
    "replace_wrong_models(['ford f-250'], 'ford f250') \n",
    "\n",
    "replace_wrong_models(['ford f-250 super duty'], 'ford f250 super duty') "
   ]
  },
  {
   "cell_type": "code",
   "execution_count": 16,
   "id": "ce634629-6410-4a49-ae7f-92ee7373b3a3",
   "metadata": {},
   "outputs": [
    {
     "name": "stdout",
     "output_type": "stream",
     "text": [
      "['bmw x5' 'ford f-150' 'hyundai sonata' 'chrysler 200' 'chrysler 300'\n",
      " 'toyota camry' 'honda pilot' 'kia sorento' 'chevrolet silverado 1500'\n",
      " 'honda accord' 'ram 1500' 'gmc yukon' 'jeep cherokee'\n",
      " 'chevrolet traverse' 'hyundai elantra' 'chevrolet tahoe' 'toyota rav4'\n",
      " 'chevrolet silverado' 'jeep wrangler' 'chevrolet malibu' 'ford fusion se'\n",
      " 'chevrolet impala' 'chevrolet corvette' 'jeep liberty' 'toyota camry le'\n",
      " 'nissan altima' 'subaru outback' 'toyota highlander' 'dodge charger'\n",
      " 'toyota tacoma' 'chevrolet equinox' 'nissan rogue'\n",
      " 'mercedes-benz benze sprinter 2500' 'honda cr-v' 'jeep grand cherokee'\n",
      " 'toyota 4runner' 'ford focus' 'honda civic' 'kia soul'\n",
      " 'chevrolet colorado' 'ford f150 supercrew cab xlt'\n",
      " 'chevrolet camaro lt coupe 2d' 'chevrolet cruze' 'ford mustang'\n",
      " 'chevrolet silverado 3500hd' 'nissan frontier crew cab sv'\n",
      " 'subaru impreza' 'jeep grand cherokee laredo' 'nissan versa'\n",
      " 'ford f-250 sd' 'chevrolet silverado 1500 crew' 'ford f250 super duty'\n",
      " 'chevrolet camaro' 'ford mustang gt coupe 2d' 'subaru forester'\n",
      " 'ford explorer' 'ford f-350 sd' 'ford edge' 'nissan maxima' 'ford f250'\n",
      " 'nissan sentra' 'ford f150' 'chevrolet suburban' 'ford expedition'\n",
      " 'dodge grand caravan' 'ford taurus' 'acura tl' 'ford f350 super duty'\n",
      " 'ford ranger' 'gmc sierra' 'hyundai santa fe' 'ford escape'\n",
      " 'gmc sierra 2500hd' 'honda civic lx' 'gmc sierra 1500' 'honda odyssey'\n",
      " 'cadillac escalade' 'volkswagen jetta' 'toyota corolla'\n",
      " 'chrysler town & country' 'volkswagen passat' 'toyota prius'\n",
      " 'buick enclave' 'ford fusion' 'toyota tundra' 'ram 3500' 'ram 2500'\n",
      " 'nissan frontier' 'chevrolet silverado 2500hd' 'jeep wrangler unlimited'\n",
      " 'gmc acadia' 'toyota sienna' 'ford focus se' 'dodge dakota' 'ford f350'\n",
      " 'chevrolet trailblazer' 'ford econoline' 'nissan murano']\n"
     ]
    }
   ],
   "source": [
    "# viewing updated unique model names\n",
    "print(df['model'].unique())"
   ]
  },
  {
   "cell_type": "code",
   "execution_count": 17,
   "id": "26b575cd-24f0-433d-9930-0939a3e6cbf1",
   "metadata": {
    "tags": []
   },
   "outputs": [],
   "source": [
    "# Save DataFrame to a CSV file\n",
    "df.to_csv('/Users/user/Downloads/vehicles_upd.csv', index=False)  # Set index=False to avoid writing row indices"
   ]
  }
 ],
 "metadata": {
  "kernelspec": {
   "display_name": "Python 3 (ipykernel)",
   "language": "python",
   "name": "python3"
  },
  "language_info": {
   "codemirror_mode": {
    "name": "ipython",
    "version": 3
   },
   "file_extension": ".py",
   "mimetype": "text/x-python",
   "name": "python",
   "nbconvert_exporter": "python",
   "pygments_lexer": "ipython3",
   "version": "3.11.5"
  }
 },
 "nbformat": 4,
 "nbformat_minor": 5
}
