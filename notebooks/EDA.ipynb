Description of columns:
price - vehicle price	
model_year - model release year	
model - vehicle model
condition	
cylinders	
fuel	
odometer	
transmission	
type	
paint_color	
is_4wd	
date_posted	
days_listed