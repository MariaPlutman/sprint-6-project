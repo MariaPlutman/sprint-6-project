{
 "cells": [
  {
   "cell_type": "code",
   "execution_count": 1,
   "id": "9d56a04c-f42e-4e50-bc16-decf10dfa7e9",
   "metadata": {},
   "outputs": [],
   "source": [
    "# importing pandas\n",
    "import pandas as pd\n",
    "\n",
    "import numpy as np"
   ]
  },
  {
   "cell_type": "code",
   "execution_count": 2,
   "id": "907ad1f5-6a7b-4a93-a915-8f3e5128ffc7",
   "metadata": {},
   "outputs": [],
   "source": [
    "# reading the file and storing it to df\n",
    "df = pd.read_csv('/Users/user/Downloads/vehicles_us.csv')"
   ]
  },
  {
   "cell_type": "code",
   "execution_count": 3,
   "id": "af127868-5479-4c22-8f5b-a604768fc086",
   "metadata": {
    "tags": []
   },
   "outputs": [
    {
     "name": "stdout",
     "output_type": "stream",
     "text": [
      "<class 'pandas.core.frame.DataFrame'>\n",
      "RangeIndex: 51525 entries, 0 to 51524\n",
      "Data columns (total 13 columns):\n",
      " #   Column        Non-Null Count  Dtype  \n",
      "---  ------        --------------  -----  \n",
      " 0   price         51525 non-null  int64  \n",
      " 1   model_year    47906 non-null  float64\n",
      " 2   model         51525 non-null  object \n",
      " 3   condition     51525 non-null  object \n",
      " 4   cylinders     46265 non-null  float64\n",
      " 5   fuel          51525 non-null  object \n",
      " 6   odometer      43633 non-null  float64\n",
      " 7   transmission  51525 non-null  object \n",
      " 8   type          51525 non-null  object \n",
      " 9   paint_color   42258 non-null  object \n",
      " 10  is_4wd        25572 non-null  float64\n",
      " 11  date_posted   51525 non-null  object \n",
      " 12  days_listed   51525 non-null  int64  \n",
      "dtypes: float64(4), int64(2), object(7)\n",
      "memory usage: 5.1+ MB\n"
     ]
    }
   ],
   "source": [
    "# obtaining general information about the data in df\n",
    "df.info()"
   ]
  },
  {
   "cell_type": "code",
   "execution_count": 4,
   "id": "670548c7-5ba4-41ef-80c4-0cdfa804e836",
   "metadata": {
    "tags": []
   },
   "outputs": [
    {
     "name": "stdout",
     "output_type": "stream",
     "text": [
      "Index(['price', 'model_year', 'model', 'condition', 'cylinders', 'fuel',\n",
      "       'odometer', 'transmission', 'type', 'paint_color', 'is_4wd',\n",
      "       'date_posted', 'days_listed'],\n",
      "      dtype='object')\n"
     ]
    }
   ],
   "source": [
    "# the list of column names in the df table\n",
    "print(df.columns)"
   ]
  },
  {
   "cell_type": "code",
   "execution_count": 5,
   "id": "67b06f0c-6c5e-41c0-9e24-775e0e89ec75",
   "metadata": {
    "tags": []
   },
   "outputs": [
    {
     "name": "stdout",
     "output_type": "stream",
     "text": [
      "price               0\n",
      "model_year       3619\n",
      "model               0\n",
      "condition           0\n",
      "cylinders        5260\n",
      "fuel                0\n",
      "odometer         7892\n",
      "transmission        0\n",
      "type                0\n",
      "paint_color      9267\n",
      "is_4wd          25953\n",
      "date_posted         0\n",
      "days_listed         0\n",
      "dtype: int64\n"
     ]
    }
   ],
   "source": [
    "# calculating missing values\n",
    "print(df.isna().sum())"
   ]
  },
  {
   "cell_type": "code",
   "execution_count": 6,
   "id": "e76f10be-ccd0-48a6-a83c-82cf39b98ef3",
   "metadata": {
    "tags": []
   },
   "outputs": [
    {
     "name": "stdout",
     "output_type": "stream",
     "text": [
      "       price  model_year           model  condition cylinders fuel  odometer  \\\n",
      "0       9400      2011.0          bmw x5       good       6.0  gas  145000.0   \n",
      "1      25500         NaN      ford f-150       good       6.0  gas   88705.0   \n",
      "2       5500      2013.0  hyundai sonata   like new       4.0  gas  110000.0   \n",
      "3       1500      2003.0      ford f-150       fair       8.0  gas       NaN   \n",
      "4      14900      2017.0    chrysler 200  excellent       4.0  gas   80903.0   \n",
      "...      ...         ...             ...        ...       ...  ...       ...   \n",
      "51520   9249      2013.0   nissan maxima   like new       6.0  gas   88136.0   \n",
      "51521   2700      2002.0     honda civic    salvage       4.0  gas  181500.0   \n",
      "51522   3950      2009.0  hyundai sonata  excellent       4.0  gas  128000.0   \n",
      "51523   7455      2013.0  toyota corolla       good       4.0  gas  139573.0   \n",
      "51524   6300      2014.0   nissan altima       good       4.0  gas       NaN   \n",
      "\n",
      "      transmission    type paint_color  is_4wd date_posted  days_listed  \n",
      "0        automatic     SUV     unknown     1.0  2018-06-23           19  \n",
      "1        automatic  pickup       white     1.0  2018-10-19           50  \n",
      "2        automatic   sedan         red     NaN  2019-02-07           79  \n",
      "3        automatic  pickup     unknown     NaN  2019-03-22            9  \n",
      "4        automatic   sedan       black     NaN  2019-04-02           28  \n",
      "...            ...     ...         ...     ...         ...          ...  \n",
      "51520    automatic   sedan       black     NaN  2018-10-03           37  \n",
      "51521    automatic   sedan       white     NaN  2018-11-14           22  \n",
      "51522    automatic   sedan        blue     NaN  2018-11-15           32  \n",
      "51523    automatic   sedan       black     NaN  2018-07-02           71  \n",
      "51524    automatic   sedan     unknown     NaN  2018-06-05           10  \n",
      "\n",
      "[51525 rows x 13 columns]\n"
     ]
    }
   ],
   "source": [
    "# Assuming 'df' is your DataFrame\n",
    "columns_to_replace = ['condition','paint_color', 'cylinders']\n",
    "\n",
    "# Replace missing values with 'unknown' using transform()\n",
    "df[columns_to_replace] = df[columns_to_replace].transform(lambda x: x.fillna('unknown'))\n",
    "\n",
    "# Display the updated DataFrame\n",
    "print(df)"
   ]
  },
  {
   "cell_type": "code",
   "execution_count": 7,
   "id": "7a6fa658-228e-4b93-94ad-d1f15277a50b",
   "metadata": {
    "tags": []
   },
   "outputs": [
    {
     "name": "stdout",
     "output_type": "stream",
     "text": [
      "price               0\n",
      "model_year       3619\n",
      "model               0\n",
      "condition           0\n",
      "cylinders           0\n",
      "fuel                0\n",
      "odometer         7892\n",
      "transmission        0\n",
      "type                0\n",
      "paint_color         0\n",
      "is_4wd          25953\n",
      "date_posted         0\n",
      "days_listed         0\n",
      "dtype: int64\n"
     ]
    }
   ],
   "source": [
    "# counting missing values\n",
    "print(df.isna().sum())"
   ]
  },
  {
   "cell_type": "code",
   "execution_count": 8,
   "id": "8b0129ee-099d-49c5-b7e1-a2485d08559e",
   "metadata": {},
   "outputs": [],
   "source": [
    "# Replace 'unknown' values with NaN\n",
    "df['model_year'] = pd.to_numeric(df['model_year'], errors='coerce')\n",
    "df['odometer'] = pd.to_numeric(df['odometer'], errors='coerce')"
   ]
  },
  {
   "cell_type": "code",
   "execution_count": 9,
   "id": "729e7bb8-ed44-4614-9e30-476c44b6d3c8",
   "metadata": {},
   "outputs": [
    {
     "name": "stdout",
     "output_type": "stream",
     "text": [
      "   price  model_year           model  condition cylinders fuel  odometer  \\\n",
      "0   9400        2011          bmw x5       good       6.0  gas    145000   \n",
      "1  25500           0      ford f-150       good       6.0  gas     88705   \n",
      "2   5500        2013  hyundai sonata   like new       4.0  gas    110000   \n",
      "3   1500        2003      ford f-150       fair       8.0  gas         0   \n",
      "4  14900        2017    chrysler 200  excellent       4.0  gas     80903   \n",
      "\n",
      "  transmission    type paint_color  is_4wd date_posted  days_listed  \n",
      "0    automatic     SUV     unknown     1.0  2018-06-23           19  \n",
      "1    automatic  pickup       white     1.0  2018-10-19           50  \n",
      "2    automatic   sedan         red     NaN  2019-02-07           79  \n",
      "3    automatic  pickup     unknown     NaN  2019-03-22            9  \n",
      "4    automatic   sedan       black     NaN  2019-04-02           28  \n"
     ]
    }
   ],
   "source": [
    "# Convert 'model_year' and 'odometer' columns to integers, treating NaN values as 0\n",
    "df['model_year'] = df['model_year'].fillna(0).astype(int)\n",
    "df['odometer'] = df['odometer'].fillna(0).astype(int)\n",
    "\n",
    "# Display the updated DataFrame\n",
    "print(df.head())"
   ]
  },
  {
   "cell_type": "code",
   "execution_count": null,
   "id": "7c8361ab-4508-4a0d-b517-d59c536b5f77",
   "metadata": {},
   "outputs": [],
   "source": [
    "# Convert 'is_4wd' to string type (if not already)\n",
    "df['is_4wd'] = df['is_4wd'].astype(str)\n",
    "\n",
    "# Define a function to conditionally replace missing values based on the condition\n",
    "def fill_missing_values(x):\n",
    "    if x == 'nan':\n",
    "        return 'yes' if df['is_4wd'].str.contains('1.0').any() else 'no'\n",
    "    else:\n",
    "        return x\n",
    "\n",
    "# Apply the function to the 'is_4wd' column using .apply()\n",
    "df['is_4wd'] = df['is_4wd'].apply(lambda x: fill_missing_values(x))\n",
    "\n",
    "# Display the updated DataFrame\n",
    "print(df.head())"
   ]
  },
  {
   "cell_type": "code",
   "execution_count": null,
   "id": "04b674e3-aee0-4a5f-af99-669fc3b361c3",
   "metadata": {
    "tags": []
   },
   "outputs": [],
   "source": [
    "# counting clear duplicates\n",
    "print(df.duplicated().sum()) "
   ]
  },
  {
   "cell_type": "code",
   "execution_count": null,
   "id": "71ed2f4f-2897-40cc-b14e-56177e63788c",
   "metadata": {
    "tags": []
   },
   "outputs": [],
   "source": [
    "# viewing unique model names\n",
    "df = df.drop_duplicates().reset_index(drop=True)\n",
    "df.sort_values(by = ['model'],inplace = True)\n",
    "print(df['model'].unique())"
   ]
  },
  {
   "cell_type": "code",
   "execution_count": null,
   "id": "6df2a5ce-86d0-4990-a595-bdf38e632a7e",
   "metadata": {
    "tags": []
   },
   "outputs": [],
   "source": [
    "# Calculating number of models released per year\n",
    "grouped = df.groupby('model_year')['model'].count()\n",
    "\n",
    "# Sort the grouped data in descending order by count\n",
    "reversed_grouped = grouped.sort_values(ascending=False)\n",
    "\n",
    "# Print the reversed grouped data\n",
    "print(reversed_grouped)"
   ]
  },
  {
   "cell_type": "code",
   "execution_count": null,
   "id": "26b575cd-24f0-433d-9930-0939a3e6cbf1",
   "metadata": {
    "tags": []
   },
   "outputs": [],
   "source": [
    "# Save DataFrame to a CSV file\n",
    "df.to_csv('/Users/user/Downloads/vehicles_upd.csv', index=False)  # Set index=False to avoid writing row indices"
   ]
  }
 ],
 "metadata": {
  "kernelspec": {
   "display_name": "Python 3 (ipykernel)",
   "language": "python",
   "name": "python3"
  },
  "language_info": {
   "codemirror_mode": {
    "name": "ipython",
    "version": 3
   },
   "file_extension": ".py",
   "mimetype": "text/x-python",
   "name": "python",
   "nbconvert_exporter": "python",
   "pygments_lexer": "ipython3",
   "version": "3.11.5"
  }
 },
 "nbformat": 4,
 "nbformat_minor": 5
}
