{
 "cells": [
  {
   "cell_type": "markdown",
   "id": "261e4263-4321-42c1-b1cc-4835d94fcf17",
   "metadata": {},
   "source": [
    "# Contents <a id='back'></a>\n",
    "\n",
    "* [Introduction](#intro)\n",
    "* [1. Data overview](#data_review)\n",
    "    * [Conclusions](#data_review_conclusions)\n",
    "* [2. Data preprocessing](#data_preprocessing)\n",
    "    * [2.1 Missing values](#missing_values)\n",
    "    * [2.2 Duplicates](#duplicates)\n",
    "    * [2.3 Conclusions](#data_preprocessing_conclusions)\n",
    "* [3. Develop the web application dashboard](#develop_app)\n",
    "    * [3.1 Data Loading and Exploration:](#data_loading)\n",
    "    * [3.2 Sorting and Filtering Options:](#sorting)\n",
    "        * [3.2.1 Sorting Functionality](#sorting)\n",
    "        * [3.2.2 Model Filtering](#filtering)\n",
    "    * [3.3 Visualizations:](#histogram)\n",
    "        * [3.3.1 Histogram Visualization](#histogram)\n",
    "        * [3.3.2 Scatter Plot Visualization](#scatter_plot)\n",
    "    * [3.4 Conclusions](#developing_conclusions)"
   ]
  },
  {
   "cell_type": "markdown",
   "id": "7afffea6-d37c-4aa0-9b6a-795ea2d21789",
   "metadata": {},
   "source": [
    "## 1. Data overview <a id='data_review'></a>\n",
    "Open the data and explore it."
   ]
  },
  {
   "cell_type": "code",
   "execution_count": 3,
   "id": "9d56a04c-f42e-4e50-bc16-decf10dfa7e9",
   "metadata": {},
   "outputs": [],
   "source": [
    "# importing pandas\n",
    "import pandas as pd\n",
    "\n",
    "# importing numpy\n",
    "import numpy as np"
   ]
  },
  {
   "cell_type": "markdown",
   "id": "d3742353-136a-497b-a5ce-f781c09c98ae",
   "metadata": {},
   "source": [
    "Read the file `vehicles_us.csv` from the `/sprint-6-project/` folder and save it in the `df` variable:"
   ]
  },
  {
   "cell_type": "code",
   "execution_count": 5,
   "id": "907ad1f5-6a7b-4a93-a915-8f3e5128ffc7",
   "metadata": {},
   "outputs": [],
   "source": [
    "# reading the file and storing it to df\n",
    "df = pd.read_csv('/Users/user/Documents/GitHub/sprint-6-project/vehicles_us.csv')"
   ]
  },
  {
   "cell_type": "markdown",
   "id": "15790589-8fbd-466d-b7df-f5e0858628d2",
   "metadata": {
    "tags": []
   },
   "source": [
    "Obtaining the general information about the table with one command:"
   ]
  },
  {
   "cell_type": "code",
   "execution_count": 7,
   "id": "af127868-5479-4c22-8f5b-a604768fc086",
   "metadata": {
    "tags": []
   },
   "outputs": [
    {
     "name": "stdout",
     "output_type": "stream",
     "text": [
      "<class 'pandas.core.frame.DataFrame'>\n",
      "RangeIndex: 51525 entries, 0 to 51524\n",
      "Data columns (total 13 columns):\n",
      " #   Column        Non-Null Count  Dtype  \n",
      "---  ------        --------------  -----  \n",
      " 0   price         51525 non-null  int64  \n",
      " 1   model_year    47906 non-null  float64\n",
      " 2   model         51525 non-null  object \n",
      " 3   condition     51525 non-null  object \n",
      " 4   cylinders     46265 non-null  float64\n",
      " 5   fuel          51525 non-null  object \n",
      " 6   odometer      43633 non-null  float64\n",
      " 7   transmission  51525 non-null  object \n",
      " 8   type          51525 non-null  object \n",
      " 9   paint_color   42258 non-null  object \n",
      " 10  is_4wd        25572 non-null  float64\n",
      " 11  date_posted   51525 non-null  object \n",
      " 12  days_listed   51525 non-null  int64  \n",
      "dtypes: float64(4), int64(2), object(7)\n",
      "memory usage: 5.1+ MB\n"
     ]
    }
   ],
   "source": [
    "# obtaining general information about the data in df\n",
    "df.info()"
   ]
  },
  {
   "cell_type": "markdown",
   "id": "eb94fede-0506-4990-97c3-edf3d44a8139",
   "metadata": {},
   "source": [
    "The table contains twelve columns. \n",
    "They have different data types according to value: `object`, `float` and `integer`.\n",
    "\n",
    "According to the documentation:\n",
    " -   price          \n",
    " -   model_year    \n",
    " -   model          \n",
    " -   condition     \n",
    " -   cylinders    \n",
    " -   fuel          \n",
    " -   odometer      \n",
    " -   transmission  \n",
    " -   type           \n",
    " -   paint_color   \n",
    " -  is_4wd        \n",
    " -  date_posted   \n",
    " -  days_listed \n",
    "\n",
    "The number of column values is different. This means the data contains missing values.\n"
   ]
  },
  {
   "cell_type": "markdown",
   "id": "64b188a6-68b7-4207-9de7-08cad6108be8",
   "metadata": {},
   "source": [
    "### Conclusions <a id='data_review_conclusions'></a> \n",
    "\n",
    "The Car Advertisement Dataset contains various attributes pertaining to car details, such as the model, year, price, paint color, and more. \n",
    "\n",
    "Upon initial inspection, it was evident that the dataset had missing values in several columns, which necessitated preprocessing steps to ensure data reliability for analysis and modeling purposes."
   ]
  },
  {
   "cell_type": "markdown",
   "id": "9d7c9de3-dcf4-40ad-aa9a-819e3548e8eb",
   "metadata": {},
   "source": [
    "## 2. Data preprocessing <a id='data_preprocessing'></a>\n",
    "Deal with the missing values. Then, check whether there are duplicates in the data."
   ]
  },
  {
   "cell_type": "code",
   "execution_count": 11,
   "id": "670548c7-5ba4-41ef-80c4-0cdfa804e836",
   "metadata": {
    "tags": []
   },
   "outputs": [
    {
     "name": "stdout",
     "output_type": "stream",
     "text": [
      "Index(['price', 'model_year', 'model', 'condition', 'cylinders', 'fuel',\n",
      "       'odometer', 'transmission', 'type', 'paint_color', 'is_4wd',\n",
      "       'date_posted', 'days_listed'],\n",
      "      dtype='object')\n"
     ]
    }
   ],
   "source": [
    "# the list of column names in the df table\n",
    "print(df.columns)"
   ]
  },
  {
   "cell_type": "markdown",
   "id": "c3d33bc1-3be0-4105-ba68-26bcb264face",
   "metadata": {},
   "source": [
    "### 2.1 Missing values <a id='missing_values'></a>\n",
    "First, find the number of missing values in the table. To do so, use two `pandas` methods:"
   ]
  },
  {
   "cell_type": "code",
   "execution_count": 13,
   "id": "67b06f0c-6c5e-41c0-9e24-775e0e89ec75",
   "metadata": {
    "tags": []
   },
   "outputs": [
    {
     "name": "stdout",
     "output_type": "stream",
     "text": [
      "price               0\n",
      "model_year       3619\n",
      "model               0\n",
      "condition           0\n",
      "cylinders        5260\n",
      "fuel                0\n",
      "odometer         7892\n",
      "transmission        0\n",
      "type                0\n",
      "paint_color      9267\n",
      "is_4wd          25953\n",
      "date_posted         0\n",
      "days_listed         0\n",
      "dtype: int64\n"
     ]
    }
   ],
   "source": [
    "# calculating missing values\n",
    "print(df.isna().sum())"
   ]
  },
  {
   "cell_type": "markdown",
   "id": "9ad87aef-a3a3-406d-932e-16aeeaeb10b2",
   "metadata": {},
   "source": [
    "Replace the missing values in `'condition'`, `'paint_color'`, and `'cylinders'` with the string `'unknown'`. To do this, create the `columns_to_replace` list, loop over it, and replace the missing values in each of the columns:"
   ]
  },
  {
   "cell_type": "code",
   "execution_count": 15,
   "id": "e76f10be-ccd0-48a6-a83c-82cf39b98ef3",
   "metadata": {
    "tags": []
   },
   "outputs": [
    {
     "name": "stdout",
     "output_type": "stream",
     "text": [
      "       price  model_year           model  condition cylinders fuel  odometer  \\\n",
      "0       9400      2011.0          bmw x5       good       6.0  gas  145000.0   \n",
      "1      25500         NaN      ford f-150       good       6.0  gas   88705.0   \n",
      "2       5500      2013.0  hyundai sonata   like new       4.0  gas  110000.0   \n",
      "3       1500      2003.0      ford f-150       fair       8.0  gas       NaN   \n",
      "4      14900      2017.0    chrysler 200  excellent       4.0  gas   80903.0   \n",
      "...      ...         ...             ...        ...       ...  ...       ...   \n",
      "51520   9249      2013.0   nissan maxima   like new       6.0  gas   88136.0   \n",
      "51521   2700      2002.0     honda civic    salvage       4.0  gas  181500.0   \n",
      "51522   3950      2009.0  hyundai sonata  excellent       4.0  gas  128000.0   \n",
      "51523   7455      2013.0  toyota corolla       good       4.0  gas  139573.0   \n",
      "51524   6300      2014.0   nissan altima       good       4.0  gas       NaN   \n",
      "\n",
      "      transmission    type paint_color  is_4wd date_posted  days_listed  \n",
      "0        automatic     SUV     unknown     1.0  2018-06-23           19  \n",
      "1        automatic  pickup       white     1.0  2018-10-19           50  \n",
      "2        automatic   sedan         red     NaN  2019-02-07           79  \n",
      "3        automatic  pickup     unknown     NaN  2019-03-22            9  \n",
      "4        automatic   sedan       black     NaN  2019-04-02           28  \n",
      "...            ...     ...         ...     ...         ...          ...  \n",
      "51520    automatic   sedan       black     NaN  2018-10-03           37  \n",
      "51521    automatic   sedan       white     NaN  2018-11-14           22  \n",
      "51522    automatic   sedan        blue     NaN  2018-11-15           32  \n",
      "51523    automatic   sedan       black     NaN  2018-07-02           71  \n",
      "51524    automatic   sedan     unknown     NaN  2018-06-05           10  \n",
      "\n",
      "[51525 rows x 13 columns]\n"
     ]
    }
   ],
   "source": [
    "# Assuming 'df' is your DataFrame\n",
    "columns_to_replace = ['condition','paint_color', 'cylinders']\n",
    "\n",
    "# Replace missing values with 'unknown' using transform()\n",
    "df[columns_to_replace] = df[columns_to_replace].transform(lambda x: x.fillna('unknown'))\n",
    "\n",
    "# Display the updated DataFrame\n",
    "print(df)"
   ]
  },
  {
   "cell_type": "markdown",
   "id": "c9494103-7b4e-4f68-ba6f-1b0c99fa6bfd",
   "metadata": {
    "tags": []
   },
   "source": [
    "The code snippet is designed to clean and preprocess the Car Advertisement Dataset by converting 'unknown' values in specific columns ('model_year' and 'odometer') to NaN (missing or null values) to facilitate further data analysis and manipulation."
   ]
  },
  {
   "cell_type": "code",
   "execution_count": 17,
   "id": "8b0129ee-099d-49c5-b7e1-a2485d08559e",
   "metadata": {},
   "outputs": [],
   "source": [
    "# Replace 'unknown' values with NaN\n",
    "df['model_year'] = pd.to_numeric(df['model_year'], errors='coerce')\n",
    "df['odometer'] = pd.to_numeric(df['odometer'], errors='coerce')"
   ]
  },
  {
   "cell_type": "markdown",
   "id": "59c3353c-8d00-4e23-a876-a857c91c9a6a",
   "metadata": {},
   "source": [
    "The primary objective of this preprocessing step is to convert the `'model_year'` and `'odometer'` columns to integer type while handling missing values. By replacing NaN values with 0 and subsequently converting the columns to integers, the code aims to prepare the dataset for numerical computations, statistical analyses, or machine learning models that require integer-based features."
   ]
  },
  {
   "cell_type": "code",
   "execution_count": 19,
   "id": "729e7bb8-ed44-4614-9e30-476c44b6d3c8",
   "metadata": {},
   "outputs": [
    {
     "name": "stdout",
     "output_type": "stream",
     "text": [
      "   price  model_year           model  condition cylinders fuel  odometer  \\\n",
      "0   9400        2011          bmw x5       good       6.0  gas    145000   \n",
      "1  25500           0      ford f-150       good       6.0  gas     88705   \n",
      "2   5500        2013  hyundai sonata   like new       4.0  gas    110000   \n",
      "3   1500        2003      ford f-150       fair       8.0  gas         0   \n",
      "4  14900        2017    chrysler 200  excellent       4.0  gas     80903   \n",
      "\n",
      "  transmission    type paint_color  is_4wd date_posted  days_listed  \n",
      "0    automatic     SUV     unknown     1.0  2018-06-23           19  \n",
      "1    automatic  pickup       white     1.0  2018-10-19           50  \n",
      "2    automatic   sedan         red     NaN  2019-02-07           79  \n",
      "3    automatic  pickup     unknown     NaN  2019-03-22            9  \n",
      "4    automatic   sedan       black     NaN  2019-04-02           28  \n"
     ]
    }
   ],
   "source": [
    "# Convert 'model_year' and 'odometer' columns to integers, treating NaN values as 0\n",
    "df['model_year'] = df['model_year'].fillna(0).astype(int)\n",
    "df['odometer'] = df['odometer'].fillna(0).astype(int)\n",
    "\n",
    "# Display the updated DataFrame\n",
    "print(df.head())"
   ]
  },
  {
   "cell_type": "markdown",
   "id": "ca5f9983-f23c-41e8-b6d6-9cf2ea71e8c9",
   "metadata": {},
   "source": [
    "The main objective of next step is to standardize the content of the `'is_4wd'` column by converting it to a string type and replacing specific values ('1.0' and 'nan') with more descriptive representations ('yes' and 'no', respectively). This transformation enhances the column's readability and prepares it for analysis or modeling by replacing ambiguous or inconsistent entries."
   ]
  },
  {
   "cell_type": "code",
   "execution_count": 21,
   "id": "7c8361ab-4508-4a0d-b517-d59c536b5f77",
   "metadata": {},
   "outputs": [
    {
     "name": "stdout",
     "output_type": "stream",
     "text": [
      "   price  model_year           model  condition cylinders fuel  odometer  \\\n",
      "0   9400        2011          bmw x5       good       6.0  gas    145000   \n",
      "1  25500           0      ford f-150       good       6.0  gas     88705   \n",
      "2   5500        2013  hyundai sonata   like new       4.0  gas    110000   \n",
      "3   1500        2003      ford f-150       fair       8.0  gas         0   \n",
      "4  14900        2017    chrysler 200  excellent       4.0  gas     80903   \n",
      "\n",
      "  transmission    type paint_color is_4wd date_posted  days_listed  \n",
      "0    automatic     SUV     unknown    yes  2018-06-23           19  \n",
      "1    automatic  pickup       white    yes  2018-10-19           50  \n",
      "2    automatic   sedan         red     no  2019-02-07           79  \n",
      "3    automatic  pickup     unknown     no  2019-03-22            9  \n",
      "4    automatic   sedan       black     no  2019-04-02           28  \n"
     ]
    }
   ],
   "source": [
    "# Convert 'is_4wd' to string type (if not already)\n",
    "df['is_4wd'] = df['is_4wd'].astype(str)\n",
    "\n",
    "# Replace '1.0' with 'yes' and 'nan' with 'no'\n",
    "df['is_4wd'] = np.where(df['is_4wd'] == '1.0', 'yes', np.where(df['is_4wd'] == 'nan', 'no', df['is_4wd']))\n",
    "\n",
    "# Display the updated DataFrame\n",
    "print(df.head())"
   ]
  },
  {
   "cell_type": "markdown",
   "id": "4391909e-1b99-4b6a-9497-caee50136469",
   "metadata": {},
   "source": [
    "Make sure the table contains no more missing values. Count the missing values again."
   ]
  },
  {
   "cell_type": "code",
   "execution_count": 23,
   "id": "c3e6b910-ed4f-4060-903d-49cd7f090bb8",
   "metadata": {},
   "outputs": [
    {
     "name": "stdout",
     "output_type": "stream",
     "text": [
      "price           0\n",
      "model_year      0\n",
      "model           0\n",
      "condition       0\n",
      "cylinders       0\n",
      "fuel            0\n",
      "odometer        0\n",
      "transmission    0\n",
      "type            0\n",
      "paint_color     0\n",
      "is_4wd          0\n",
      "date_posted     0\n",
      "days_listed     0\n",
      "dtype: int64\n"
     ]
    }
   ],
   "source": [
    "# calculating missing values\n",
    "print(df.isna().sum())"
   ]
  },
  {
   "cell_type": "markdown",
   "id": "05cb5bb7-a094-434f-8164-4436e1af57c2",
   "metadata": {},
   "source": [
    "### 2.2 Duplicates <a id='duplicates'></a>\n",
    "Find the number of obvious duplicates in the table using one command:"
   ]
  },
  {
   "cell_type": "code",
   "execution_count": 25,
   "id": "04b674e3-aee0-4a5f-af99-669fc3b361c3",
   "metadata": {
    "tags": []
   },
   "outputs": [
    {
     "name": "stdout",
     "output_type": "stream",
     "text": [
      "0\n"
     ]
    }
   ],
   "source": [
    "# counting clear duplicates\n",
    "print(df.duplicated().sum()) "
   ]
  },
  {
   "cell_type": "markdown",
   "id": "bd3abef4-4f43-4cba-a056-0b822f2bbf87",
   "metadata": {},
   "source": [
    "Now get rid of implicit duplicates in the `model` column. For example, the name of a model can be written in different ways. Such errors will also affect the result."
   ]
  },
  {
   "cell_type": "markdown",
   "id": "97c279bc-d3c2-4c0e-9977-b7c5a62379b3",
   "metadata": {},
   "source": [
    "Print a list of unique model names, sorted in alphabetical order. To do so:\n",
    "* Retrieve the intended DataFrame column \n",
    "* Apply a sorting method to it\n",
    "* For the sorted column, call the method that will return all unique column values"
   ]
  },
  {
   "cell_type": "code",
   "execution_count": 28,
   "id": "5e4efca6-f330-484c-9c58-6e0843a97c45",
   "metadata": {
    "tags": []
   },
   "outputs": [
    {
     "name": "stdout",
     "output_type": "stream",
     "text": [
      "['acura tl' 'bmw x5' 'buick enclave' 'cadillac escalade'\n",
      " 'chevrolet camaro' 'chevrolet camaro lt coupe 2d' 'chevrolet colorado'\n",
      " 'chevrolet corvette' 'chevrolet cruze' 'chevrolet equinox'\n",
      " 'chevrolet impala' 'chevrolet malibu' 'chevrolet silverado'\n",
      " 'chevrolet silverado 1500' 'chevrolet silverado 1500 crew'\n",
      " 'chevrolet silverado 2500hd' 'chevrolet silverado 3500hd'\n",
      " 'chevrolet suburban' 'chevrolet tahoe' 'chevrolet trailblazer'\n",
      " 'chevrolet traverse' 'chrysler 200' 'chrysler 300'\n",
      " 'chrysler town & country' 'dodge charger' 'dodge dakota'\n",
      " 'dodge grand caravan' 'ford econoline' 'ford edge' 'ford escape'\n",
      " 'ford expedition' 'ford explorer' 'ford f-150' 'ford f-250'\n",
      " 'ford f-250 sd' 'ford f-250 super duty' 'ford f-350 sd' 'ford f150'\n",
      " 'ford f150 supercrew cab xlt' 'ford f250' 'ford f250 super duty'\n",
      " 'ford f350' 'ford f350 super duty' 'ford focus' 'ford focus se'\n",
      " 'ford fusion' 'ford fusion se' 'ford mustang' 'ford mustang gt coupe 2d'\n",
      " 'ford ranger' 'ford taurus' 'gmc acadia' 'gmc sierra' 'gmc sierra 1500'\n",
      " 'gmc sierra 2500hd' 'gmc yukon' 'honda accord' 'honda civic'\n",
      " 'honda civic lx' 'honda cr-v' 'honda odyssey' 'honda pilot'\n",
      " 'hyundai elantra' 'hyundai santa fe' 'hyundai sonata' 'jeep cherokee'\n",
      " 'jeep grand cherokee' 'jeep grand cherokee laredo' 'jeep liberty'\n",
      " 'jeep wrangler' 'jeep wrangler unlimited' 'kia sorento' 'kia soul'\n",
      " 'mercedes-benz benze sprinter 2500' 'nissan altima' 'nissan frontier'\n",
      " 'nissan frontier crew cab sv' 'nissan maxima' 'nissan murano'\n",
      " 'nissan rogue' 'nissan sentra' 'nissan versa' 'ram 1500' 'ram 2500'\n",
      " 'ram 3500' 'subaru forester' 'subaru impreza' 'subaru outback'\n",
      " 'toyota 4runner' 'toyota camry' 'toyota camry le' 'toyota corolla'\n",
      " 'toyota highlander' 'toyota prius' 'toyota rav4' 'toyota sienna'\n",
      " 'toyota tacoma' 'toyota tundra' 'volkswagen jetta' 'volkswagen passat']\n"
     ]
    }
   ],
   "source": [
    "# viewing unique model names\n",
    "df.sort_values(by = ['model'],inplace = True)\n",
    "print(df['model'].unique())"
   ]
  },
  {
   "cell_type": "markdown",
   "id": "09eb1d6b-1ffe-4128-a6e4-da6a2b23376d",
   "metadata": {},
   "source": [
    "Look through the list to find implicit duplicates, these could be names written incorrectly or alternative names of the same model.\n",
    "\n",
    "You will see the following implicit duplicates:\n",
    "* 'ford f-250'\n",
    "* 'ford f250'\n",
    "* 'ford f-250 super duty'\n",
    "* 'ford f250 super duty'\n",
    "\n",
    "To get rid of them, declare the function `replace_wrong_models()` with two parameters: \n",
    "* `wrong_models=` — the list of duplicates\n",
    "* `correct_model=` — the string with the correct value\n",
    "\n",
    "The function should correct the names in the `'model'` column from the `df` table, i.e. replace each value from the `wrong_model` list with the value in `correct_model`."
   ]
  },
  {
   "cell_type": "code",
   "execution_count": 30,
   "id": "3a4ab333-2670-49a7-8623-5a3cd48dff1c",
   "metadata": {},
   "outputs": [],
   "source": [
    "# function for replacing implicit duplicates\n",
    "def replace_wrong_models(wrong_models, correct_model):\n",
    "    for wrong_model in wrong_models:\n",
    "        df['model'] = df['model'].str.strip().str.lower().replace(wrong_model.lower(), correct_model.lower())"
   ]
  },
  {
   "cell_type": "markdown",
   "id": "ed6c9dae-f667-40ad-a660-00450fd289fc",
   "metadata": {},
   "source": [
    "Call `replace_wrong_models()` and pass it arguments so that it clears implicit duplcates and replaces them with:"
   ]
  },
  {
   "cell_type": "code",
   "execution_count": 32,
   "id": "a1fbc53e-976f-4ba6-9fa0-691b5a73c1f1",
   "metadata": {},
   "outputs": [],
   "source": [
    "# removing implicit duplicates\n",
    "replace_wrong_models(['ford f-250'], 'ford f250') \n",
    "\n",
    "replace_wrong_models(['ford f-250 super duty'], 'ford f250 super duty') "
   ]
  },
  {
   "cell_type": "markdown",
   "id": "1d1497ec-07b8-4543-9072-32583abf77d7",
   "metadata": {},
   "source": [
    "Make sure the duplicate names were removed. Print the list of unique values from the `'model'` column:"
   ]
  },
  {
   "cell_type": "code",
   "execution_count": 34,
   "id": "ce634629-6410-4a49-ae7f-92ee7373b3a3",
   "metadata": {},
   "outputs": [
    {
     "name": "stdout",
     "output_type": "stream",
     "text": [
      "['acura tl' 'bmw x5' 'buick enclave' 'cadillac escalade'\n",
      " 'chevrolet camaro' 'chevrolet camaro lt coupe 2d' 'chevrolet colorado'\n",
      " 'chevrolet corvette' 'chevrolet cruze' 'chevrolet equinox'\n",
      " 'chevrolet impala' 'chevrolet malibu' 'chevrolet silverado'\n",
      " 'chevrolet silverado 1500' 'chevrolet silverado 1500 crew'\n",
      " 'chevrolet silverado 2500hd' 'chevrolet silverado 3500hd'\n",
      " 'chevrolet suburban' 'chevrolet tahoe' 'chevrolet trailblazer'\n",
      " 'chevrolet traverse' 'chrysler 200' 'chrysler 300'\n",
      " 'chrysler town & country' 'dodge charger' 'dodge dakota'\n",
      " 'dodge grand caravan' 'ford econoline' 'ford edge' 'ford escape'\n",
      " 'ford expedition' 'ford explorer' 'ford f-150' 'ford f250'\n",
      " 'ford f-250 sd' 'ford f250 super duty' 'ford f-350 sd' 'ford f150'\n",
      " 'ford f150 supercrew cab xlt' 'ford f350' 'ford f350 super duty'\n",
      " 'ford focus' 'ford focus se' 'ford fusion' 'ford fusion se'\n",
      " 'ford mustang' 'ford mustang gt coupe 2d' 'ford ranger' 'ford taurus'\n",
      " 'gmc acadia' 'gmc sierra' 'gmc sierra 1500' 'gmc sierra 2500hd'\n",
      " 'gmc yukon' 'honda accord' 'honda civic' 'honda civic lx' 'honda cr-v'\n",
      " 'honda odyssey' 'honda pilot' 'hyundai elantra' 'hyundai santa fe'\n",
      " 'hyundai sonata' 'jeep cherokee' 'jeep grand cherokee'\n",
      " 'jeep grand cherokee laredo' 'jeep liberty' 'jeep wrangler'\n",
      " 'jeep wrangler unlimited' 'kia sorento' 'kia soul'\n",
      " 'mercedes-benz benze sprinter 2500' 'nissan altima' 'nissan frontier'\n",
      " 'nissan frontier crew cab sv' 'nissan maxima' 'nissan murano'\n",
      " 'nissan rogue' 'nissan sentra' 'nissan versa' 'ram 1500' 'ram 2500'\n",
      " 'ram 3500' 'subaru forester' 'subaru impreza' 'subaru outback'\n",
      " 'toyota 4runner' 'toyota camry' 'toyota camry le' 'toyota corolla'\n",
      " 'toyota highlander' 'toyota prius' 'toyota rav4' 'toyota sienna'\n",
      " 'toyota tacoma' 'toyota tundra' 'volkswagen jetta' 'volkswagen passat']\n"
     ]
    }
   ],
   "source": [
    "# viewing updated unique model names\n",
    "print(df['model'].unique())"
   ]
  },
  {
   "cell_type": "markdown",
   "id": "4794e57e-4f1e-4b1d-ba70-f3c066cabf81",
   "metadata": {},
   "source": [
    "Next step finalizes the data processing pipeline by persisting the updated DataFrame into a CSV file, ensuring the preservation of modifications made to the Car Advertisement Dataset for future use and analysis."
   ]
  },
  {
   "cell_type": "code",
   "execution_count": 36,
   "id": "e6427ace-e732-4926-814c-c0f5b678c3c9",
   "metadata": {},
   "outputs": [],
   "source": [
    "# Save DataFrame to a CSV file\n",
    "df.to_csv('/Users/user/Downloads/vehicles_upd.csv', index=False)  # Set index=False to avoid writing row indices"
   ]
  },
  {
   "cell_type": "markdown",
   "id": "4518ccd0-e696-49a9-bce2-11e42a7fee1d",
   "metadata": {},
   "source": [
    "### 2.3 Conclusions <a id='data_preprocessing_conclusions'></a>\n",
    "We detected two issues with the data:\n",
    "\n",
    "- Missing values\n",
    "- Obvious and implicit duplicates\n",
    "\n",
    "All missing values have been replaced.\n",
    "\n",
    "The absence of duplicates will make the results more precise and easier to understand.\n"
   ]
  },
  {
   "cell_type": "markdown",
   "id": "a668f2b1-1ca7-49fe-8221-bf8f7a1fd831",
   "metadata": {},
   "source": [
    "## 3. Develop the web application dashboard <a id='develop_app'></a>\n",
    "The app.py code focuses on exploring and visualizing the Car Advertisement Dataset, providing interactive components for data analysis and visualization using Python libraries like Pandas, Plotly, and Streamlit."
   ]
  },
  {
   "cell_type": "markdown",
   "id": "d2f38c58-f6d7-4a63-a968-4340de9649b2",
   "metadata": {},
   "source": [
    "### 3.1 Data Loading and Exploration: <a id='data_loading'></a>\n",
    "Loading the preprocessed Car Advertisement Dataset from the 'vehicles_upd.csv' file using Pandas."
   ]
  },
  {
   "cell_type": "code",
   "execution_count": 40,
   "id": "8f687b5d-5e6f-4cff-84df-1f5494b3730c",
   "metadata": {
    "tags": []
   },
   "outputs": [
    {
     "name": "stderr",
     "output_type": "stream",
     "text": [
      "2023-12-18 12:26:14.900 \n",
      "  \u001b[33m\u001b[1mWarning:\u001b[0m to view this Streamlit app on a browser, run it with the following\n",
      "  command:\n",
      "\n",
      "    streamlit run /Users/user/anaconda3/lib/python3.11/site-packages/ipykernel_launcher.py [ARGUMENTS]\n"
     ]
    },
    {
     "data": {
      "text/plain": [
       "DeltaGenerator()"
      ]
     },
     "execution_count": 40,
     "metadata": {},
     "output_type": "execute_result"
    }
   ],
   "source": [
    "import plotly.express as px\n",
    "import streamlit as st\n",
    "\n",
    "data = pd.read_csv('/Users/user/Downloads/vehicles_upd.csv')\n",
    "\n",
    "st.title('Car advertisement dataset')"
   ]
  },
  {
   "cell_type": "markdown",
   "id": "8ac69f60-58c3-42e1-9a00-d37bf5661dcd",
   "metadata": {},
   "source": [
    "### 3.2 Sorting and Filtering Options: <a id='sorting'></a>\n",
    "3.2.1 `Sorting Functionality`: Offers a sidebar with options to sort the dataset based on user-selected columns in either ascending or descending order."
   ]
  },
  {
   "cell_type": "code",
   "execution_count": 42,
   "id": "984739af-f9d1-4f09-8afc-bfded3ceeb37",
   "metadata": {
    "tags": []
   },
   "outputs": [],
   "source": [
    "sort_column = st.selectbox('Select column to sort by', data.columns)\n",
    "sort_order = st.radio('Select sorting order', ['Ascending', 'Descending'])\n",
    "\n",
    "# Convert sorting order to boolean for ascending or descending\n",
    "ascending = True if sort_order == 'Ascending' else False"
   ]
  },
  {
   "cell_type": "markdown",
   "id": "2b4d432c-ee7e-4335-bfb2-1d5d030d4a67",
   "metadata": {},
   "source": [
    "<a id='filtering'></a>\n",
    "3.2.2 `Model Filtering`: Provides checkboxes to filter specific car models and a price range filter for further dataset refinement."
   ]
  },
  {
   "cell_type": "code",
   "execution_count": 44,
   "id": "7951a88c-359c-4124-ba4c-89a34e981bcb",
   "metadata": {
    "tags": []
   },
   "outputs": [],
   "source": [
    "# Checkbox for filtering specific models\n",
    "selected_models = st.multiselect('Select models to filter', data['model'].unique())\n",
    "\n",
    "# Checkbox for filtering by price range\n",
    "filter_price = st.checkbox('Filter by Price Range')\n",
    "if filter_price:\n",
    "    min_price = st.number_input('Minimum Price', min_value=data['price'].min(), max_value=data['price'].max())\n",
    "    max_price = st.number_input('Maximum Price', min_value=data['price'].min(), max_value=data['price'].max())\n",
    "    data = data[(data['price'] >= min_price) & (data['price'] <= max_price)]\n",
    "\n",
    "# Filter DataFrame based on selected models\n",
    "if selected_models:\n",
    "    filtered_df = data[data['model'].isin(selected_models)]\n",
    "else:\n",
    "    filtered_df = data.copy()  # If no models selected, show the entire DataFrame\n",
    "\n",
    "\n",
    "# Sort the filtered DataFrame based on user-selected column and order\n",
    "sorted_df = filtered_df.sort_values(by=sort_column, ascending=ascending)\n",
    "\n",
    "# Display the sorted DataFrame\n",
    "st.write(sorted_df)"
   ]
  },
  {
   "cell_type": "markdown",
   "id": "c3580d17-20ae-4a49-bf0b-f971694ca011",
   "metadata": {},
   "source": [
    "### 3.3 Visualizations: <a id='histogram'></a>\n",
    "3.3.1 `Histogram Visualization`: Generates a histogram using Plotly Express, depicting the distribution of car prices across different models and conditions. This chart allows users to hover over data points for detailed information."
   ]
  },
  {
   "cell_type": "code",
   "execution_count": 46,
   "id": "70c11ec6-f16a-43f3-80c0-ba3d009e89a4",
   "metadata": {
    "tags": []
   },
   "outputs": [
    {
     "data": {
      "text/plain": [
       "DeltaGenerator()"
      ]
     },
     "execution_count": 46,
     "metadata": {},
     "output_type": "execute_result"
    }
   ],
   "source": [
    "st.header('Histogram of Model VS Price')\n",
    "# Create the histogram with Plotly Express\n",
    "fig = px.histogram(data, x='model', y='price', color='condition', \n",
    "                   title='', \n",
    "                   labels={'model': 'Model', 'price': 'Price', 'condition': 'Condition'},\n",
    "                   hover_data=data.columns)  # Display all columns in hover information\n",
    "\n",
    "fig.update_xaxes(categoryorder='total descending')  # Sort x-axis by total price\n",
    "fig.update_layout(xaxis_title='Model', yaxis_title='Price')\n",
    "\n",
    "# Update layout and display the chart\n",
    "fig.update_traces(marker=dict(line=dict(width=0.5, color='DarkSlateGrey')))  # Define marker properties\n",
    "fig.update_layout(barmode='overlay')  # Overlay bars for better visibility\n",
    "\n",
    "st.plotly_chart(fig)"
   ]
  },
  {
   "cell_type": "markdown",
   "id": "0fb9b8d3-ef72-4a8b-8497-48d8b29d6f5b",
   "metadata": {
    "tags": []
   },
   "source": [
    "<a id='scatter_plot'></a>\n",
    "3.3.2 `Scatter Plot Visualization`: Presents a scatter plot showcasing car prices over the years, allowing users to select specific car models to display. Outliers are removed using the Interquartile Range (IQR) method, providing a clearer view of price trends over time."
   ]
  },
  {
   "cell_type": "code",
   "execution_count": 48,
   "id": "65e4379b-7097-4f8f-b31b-4c4b4ad7ab0c",
   "metadata": {
    "tags": []
   },
   "outputs": [
    {
     "data": {
      "text/plain": [
       "DeltaGenerator()"
      ]
     },
     "execution_count": 48,
     "metadata": {},
     "output_type": "execute_result"
    }
   ],
   "source": [
    "st.header('Car Prices Over Years')\n",
    "# Define columns to remove outliers from\n",
    "columns_to_remove_outliers = ['model_year', 'price']\n",
    "\n",
    "# Calculate IQR for specified columns\n",
    "Q1 = data[columns_to_remove_outliers].quantile(0.25)\n",
    "Q3 = data[columns_to_remove_outliers].quantile(0.75)\n",
    "IQR = Q3 - Q1\n",
    "\n",
    "# Filter data to remove outliers\n",
    "data_no_outliers = data[~((data[columns_to_remove_outliers] < (Q1 - 1.5 * IQR)) | (data[columns_to_remove_outliers] > (Q3 + 1.5 * IQR))).any(axis=1)]\n",
    "\n",
    "# Get unique models for the multiselect dropdown\n",
    "unique_models = data_no_outliers['model'].unique().tolist()\n",
    "\n",
    "# Create a multiselect dropdown for model selection\n",
    "selected_models = st.multiselect(\"Select models to display\", unique_models, default=[])\n",
    "\n",
    "filtered_data = data_no_outliers[data_no_outliers['model'].isin(selected_models)]\n",
    "\n",
    "scatter_fig = px.scatter(\n",
    "    filtered_data, \n",
    "    x='model_year', \n",
    "    y='price', \n",
    "    color='model',\n",
    "    hover_name='model',  \n",
    "    hover_data={'model_year': True, 'price': True},  \n",
    "    labels={'model_year': 'Year', 'price': 'Price'}, \n",
    ")\n",
    "\n",
    "# Customize the appearance of the plot\n",
    "scatter_fig.update_traces(marker=dict(size=12, line=dict(width=2, color='DarkSlateGrey')), selector=dict(mode='markers'))\n",
    "\n",
    "# Display the scatter plot without outliers using st.plotly_chart\n",
    "st.plotly_chart(scatter_fig)"
   ]
  },
  {
   "cell_type": "markdown",
   "id": "f66ced6e-883e-462e-91c3-2a143e0d239d",
   "metadata": {},
   "source": [
    "## 3.4 Conclusions <a id='developing_conclusions'></a>\n",
    "\n",
    "### Insights and Interaction:\n",
    "- `Insightful Data Display`: Displays the sorted and filtered dataset along with interactive Plotly visualizations that offer insights into price distributions and trends over the years for different car models.\n",
    "- `Interactive Elements`: Employs Streamlit widgets (such as dropdowns, checkboxes, and multiselect options) to enable user interaction and customization of displayed data.\n",
    "\n",
    "### Overall Purpose:\n",
    "The notebook aims to facilitate interactive exploration and analysis of the Car Advertisement Dataset, empowering users to sort, filter, and visualize car data based on various attributes, fostering a deeper understanding of pricing trends and model distributions.\n",
    "\n",
    "### Implication:\n",
    "By utilizing Streamlit and Plotly to create an interactive interface and visualizations, this notebook serves as an effective tool for users to gain insights and make informed decisions regarding car advertisement data."
   ]
  }
 ],
 "metadata": {
  "kernelspec": {
   "display_name": "Python 3 (ipykernel)",
   "language": "python",
   "name": "python3"
  },
  "language_info": {
   "codemirror_mode": {
    "name": "ipython",
    "version": 3
   },
   "file_extension": ".py",
   "mimetype": "text/x-python",
   "name": "python",
   "nbconvert_exporter": "python",
   "pygments_lexer": "ipython3",
   "version": "3.11.5"
  }
 },
 "nbformat": 4,
 "nbformat_minor": 5
}
